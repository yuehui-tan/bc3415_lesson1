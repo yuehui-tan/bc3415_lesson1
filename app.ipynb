{
 "cells": [
  {
   "cell_type": "code",
   "execution_count": null,
   "id": "1ebd7d7a",
   "metadata": {},
   "outputs": [
    {
     "name": "stdout",
     "output_type": "stream",
     "text": [
      " * Serving Flask app \"__main__\" (lazy loading)\n",
      " * Environment: production\n",
      "\u001b[31m   WARNING: This is a development server. Do not use it in a production deployment.\u001b[0m\n",
      "\u001b[2m   Use a production WSGI server instead.\u001b[0m\n",
      " * Debug mode: off\n"
     ]
    },
    {
     "name": "stderr",
     "output_type": "stream",
     "text": [
      " * Running on http://127.0.0.1:5000/ (Press CTRL+C to quit)\n",
      "127.0.0.1 - - [21/Aug/2024 00:01:53] \"GET / HTTP/1.1\" 200 -\n"
     ]
    }
   ],
   "source": [
    "from flask import Flask, render_template, request\n",
    "import google.generativeai as palm\n",
    "import os\n",
    "\n",
    "api = os.getenv(\"MAKERSUITE_API_TOKEN\") \n",
    "palm.configure(api_key=api)\n",
    "model = {\"model\": \"models/chat-bison-001\"}\n",
    "\n",
    "app = Flask(__name__)\n",
    "\n",
    "@app.route(\"/\",methods=[\"GET\",\"POST\"])\n",
    "def index():\n",
    "    return(render_template(\"index.html\"))\n",
    "\n",
    "# @app.route(\"/financial_QA\",methods=[\"GET\",\"POST\"])\n",
    "# def financial_QA():\n",
    "#     return(render_template(\"financial_QA.html\"))\n",
    "\n",
    "# @app.route(\"/makersuite\",methods=[\"GET\",\"POST\"])\n",
    "# def makersuite():\n",
    "#     q = request.form.get(\"q\")\n",
    "#     r = palm.chat(prompt=q, **model)\n",
    "#     return(render_template(\"makersuite.html\",r=r.last))\n",
    "\n",
    "# @app.route(\"/predcition\",methods=[\"GET\",\"POST\"])\n",
    "# def predcition():\n",
    "#     return(render_template(\"predcition.html\"))\n",
    "\n",
    "if __name__ == \"__main__\":\n",
    "    app.run()"
   ]
  },
  {
   "cell_type": "code",
   "execution_count": null,
   "id": "2d3b109e",
   "metadata": {},
   "outputs": [],
   "source": []
  }
 ],
 "metadata": {
  "kernelspec": {
   "display_name": "Python 3 (ipykernel)",
   "language": "python",
   "name": "python3"
  },
  "language_info": {
   "codemirror_mode": {
    "name": "ipython",
    "version": 3
   },
   "file_extension": ".py",
   "mimetype": "text/x-python",
   "name": "python",
   "nbconvert_exporter": "python",
   "pygments_lexer": "ipython3",
   "version": "3.9.7"
  }
 },
 "nbformat": 4,
 "nbformat_minor": 5
}
